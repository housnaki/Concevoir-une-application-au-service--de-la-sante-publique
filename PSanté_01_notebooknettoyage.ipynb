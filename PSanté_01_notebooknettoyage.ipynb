{
 "cells": [
  {
   "cell_type": "code",
   "execution_count": 1,
   "metadata": {},
   "outputs": [],
   "source": [
    "#Importer les librairies\n",
    "\n",
    "import numpy as np\n",
    "import pandas as pd"
   ]
  },
  {
   "cell_type": "code",
   "execution_count": 2,
   "metadata": {
    "scrolled": true
   },
   "outputs": [
    {
     "name": "stderr",
     "output_type": "stream",
     "text": [
      "C:\\Users\\Administrator\\anaconda3\\lib\\site-packages\\IPython\\core\\interactiveshell.py:3146: DtypeWarning: Columns (0,13,27,28,29,31,52) have mixed types.Specify dtype option on import or set low_memory=False.\n",
      "  has_raised = await self.run_ast_nodes(code_ast.body, cell_name,\n"
     ]
    },
    {
     "data": {
      "text/html": [
       "<div>\n",
       "<style scoped>\n",
       "    .dataframe tbody tr th:only-of-type {\n",
       "        vertical-align: middle;\n",
       "    }\n",
       "\n",
       "    .dataframe tbody tr th {\n",
       "        vertical-align: top;\n",
       "    }\n",
       "\n",
       "    .dataframe thead th {\n",
       "        text-align: right;\n",
       "    }\n",
       "</style>\n",
       "<table border=\"1\" class=\"dataframe\">\n",
       "  <thead>\n",
       "    <tr style=\"text-align: right;\">\n",
       "      <th></th>\n",
       "      <th>code</th>\n",
       "      <th>url</th>\n",
       "      <th>creator</th>\n",
       "      <th>created_t</th>\n",
       "      <th>created_datetime</th>\n",
       "      <th>last_modified_t</th>\n",
       "      <th>last_modified_datetime</th>\n",
       "      <th>product_name</th>\n",
       "      <th>abbreviated_product_name</th>\n",
       "      <th>generic_name</th>\n",
       "      <th>...</th>\n",
       "      <th>carbon-footprint-from-meat-or-fish_100g</th>\n",
       "      <th>nutrition-score-fr_100g</th>\n",
       "      <th>nutrition-score-uk_100g</th>\n",
       "      <th>glycemic-index_100g</th>\n",
       "      <th>water-hardness_100g</th>\n",
       "      <th>choline_100g</th>\n",
       "      <th>phylloquinone_100g</th>\n",
       "      <th>beta-glucan_100g</th>\n",
       "      <th>inositol_100g</th>\n",
       "      <th>carnitine_100g</th>\n",
       "    </tr>\n",
       "  </thead>\n",
       "  <tbody>\n",
       "    <tr>\n",
       "      <th>0</th>\n",
       "      <td>0000000000017</td>\n",
       "      <td>http://world-en.openfoodfacts.org/product/0000...</td>\n",
       "      <td>kiliweb</td>\n",
       "      <td>1529059080</td>\n",
       "      <td>2018-06-15T10:38:00Z</td>\n",
       "      <td>1561463718</td>\n",
       "      <td>2019-06-25T11:55:18Z</td>\n",
       "      <td>Vitória crackers</td>\n",
       "      <td>NaN</td>\n",
       "      <td>NaN</td>\n",
       "      <td>...</td>\n",
       "      <td>NaN</td>\n",
       "      <td>NaN</td>\n",
       "      <td>NaN</td>\n",
       "      <td>NaN</td>\n",
       "      <td>NaN</td>\n",
       "      <td>NaN</td>\n",
       "      <td>NaN</td>\n",
       "      <td>NaN</td>\n",
       "      <td>NaN</td>\n",
       "      <td>NaN</td>\n",
       "    </tr>\n",
       "    <tr>\n",
       "      <th>1</th>\n",
       "      <td>0000000000031</td>\n",
       "      <td>http://world-en.openfoodfacts.org/product/0000...</td>\n",
       "      <td>isagoofy</td>\n",
       "      <td>1539464774</td>\n",
       "      <td>2018-10-13T21:06:14Z</td>\n",
       "      <td>1539464817</td>\n",
       "      <td>2018-10-13T21:06:57Z</td>\n",
       "      <td>Cacao</td>\n",
       "      <td>NaN</td>\n",
       "      <td>NaN</td>\n",
       "      <td>...</td>\n",
       "      <td>NaN</td>\n",
       "      <td>NaN</td>\n",
       "      <td>NaN</td>\n",
       "      <td>NaN</td>\n",
       "      <td>NaN</td>\n",
       "      <td>NaN</td>\n",
       "      <td>NaN</td>\n",
       "      <td>NaN</td>\n",
       "      <td>NaN</td>\n",
       "      <td>NaN</td>\n",
       "    </tr>\n",
       "    <tr>\n",
       "      <th>2</th>\n",
       "      <td>000000000003327986</td>\n",
       "      <td>http://world-en.openfoodfacts.org/product/0000...</td>\n",
       "      <td>kiliweb</td>\n",
       "      <td>1574175736</td>\n",
       "      <td>2019-11-19T15:02:16Z</td>\n",
       "      <td>1574175737</td>\n",
       "      <td>2019-11-19T15:02:17Z</td>\n",
       "      <td>Filetes de pollo empanado</td>\n",
       "      <td>NaN</td>\n",
       "      <td>NaN</td>\n",
       "      <td>...</td>\n",
       "      <td>NaN</td>\n",
       "      <td>NaN</td>\n",
       "      <td>NaN</td>\n",
       "      <td>NaN</td>\n",
       "      <td>NaN</td>\n",
       "      <td>NaN</td>\n",
       "      <td>NaN</td>\n",
       "      <td>NaN</td>\n",
       "      <td>NaN</td>\n",
       "      <td>NaN</td>\n",
       "    </tr>\n",
       "    <tr>\n",
       "      <th>3</th>\n",
       "      <td>000000000004622327</td>\n",
       "      <td>http://world-en.openfoodfacts.org/product/0000...</td>\n",
       "      <td>kiliweb</td>\n",
       "      <td>1619501895</td>\n",
       "      <td>2021-04-27T05:38:15Z</td>\n",
       "      <td>1619501897</td>\n",
       "      <td>2021-04-27T05:38:17Z</td>\n",
       "      <td>Hamburguesas de ternera 100%</td>\n",
       "      <td>NaN</td>\n",
       "      <td>NaN</td>\n",
       "      <td>...</td>\n",
       "      <td>NaN</td>\n",
       "      <td>NaN</td>\n",
       "      <td>NaN</td>\n",
       "      <td>NaN</td>\n",
       "      <td>NaN</td>\n",
       "      <td>NaN</td>\n",
       "      <td>NaN</td>\n",
       "      <td>NaN</td>\n",
       "      <td>NaN</td>\n",
       "      <td>NaN</td>\n",
       "    </tr>\n",
       "    <tr>\n",
       "      <th>4</th>\n",
       "      <td>0000000000100</td>\n",
       "      <td>http://world-en.openfoodfacts.org/product/0000...</td>\n",
       "      <td>del51</td>\n",
       "      <td>1444572561</td>\n",
       "      <td>2015-10-11T14:09:21Z</td>\n",
       "      <td>1444659212</td>\n",
       "      <td>2015-10-12T14:13:32Z</td>\n",
       "      <td>moutarde au moût de raisin</td>\n",
       "      <td>NaN</td>\n",
       "      <td>NaN</td>\n",
       "      <td>...</td>\n",
       "      <td>NaN</td>\n",
       "      <td>18.0</td>\n",
       "      <td>NaN</td>\n",
       "      <td>NaN</td>\n",
       "      <td>NaN</td>\n",
       "      <td>NaN</td>\n",
       "      <td>NaN</td>\n",
       "      <td>NaN</td>\n",
       "      <td>NaN</td>\n",
       "      <td>NaN</td>\n",
       "    </tr>\n",
       "  </tbody>\n",
       "</table>\n",
       "<p>5 rows × 186 columns</p>\n",
       "</div>"
      ],
      "text/plain": [
       "                 code                                                url  \\\n",
       "0       0000000000017  http://world-en.openfoodfacts.org/product/0000...   \n",
       "1       0000000000031  http://world-en.openfoodfacts.org/product/0000...   \n",
       "2  000000000003327986  http://world-en.openfoodfacts.org/product/0000...   \n",
       "3  000000000004622327  http://world-en.openfoodfacts.org/product/0000...   \n",
       "4       0000000000100  http://world-en.openfoodfacts.org/product/0000...   \n",
       "\n",
       "    creator   created_t      created_datetime  last_modified_t  \\\n",
       "0   kiliweb  1529059080  2018-06-15T10:38:00Z       1561463718   \n",
       "1  isagoofy  1539464774  2018-10-13T21:06:14Z       1539464817   \n",
       "2   kiliweb  1574175736  2019-11-19T15:02:16Z       1574175737   \n",
       "3   kiliweb  1619501895  2021-04-27T05:38:15Z       1619501897   \n",
       "4     del51  1444572561  2015-10-11T14:09:21Z       1444659212   \n",
       "\n",
       "  last_modified_datetime                  product_name  \\\n",
       "0   2019-06-25T11:55:18Z              Vitória crackers   \n",
       "1   2018-10-13T21:06:57Z                         Cacao   \n",
       "2   2019-11-19T15:02:17Z     Filetes de pollo empanado   \n",
       "3   2021-04-27T05:38:17Z  Hamburguesas de ternera 100%   \n",
       "4   2015-10-12T14:13:32Z   moutarde au moût de raisin    \n",
       "\n",
       "   abbreviated_product_name generic_name  ...  \\\n",
       "0                       NaN          NaN  ...   \n",
       "1                       NaN          NaN  ...   \n",
       "2                       NaN          NaN  ...   \n",
       "3                       NaN          NaN  ...   \n",
       "4                       NaN          NaN  ...   \n",
       "\n",
       "  carbon-footprint-from-meat-or-fish_100g nutrition-score-fr_100g  \\\n",
       "0                                     NaN                     NaN   \n",
       "1                                     NaN                     NaN   \n",
       "2                                     NaN                     NaN   \n",
       "3                                     NaN                     NaN   \n",
       "4                                     NaN                    18.0   \n",
       "\n",
       "  nutrition-score-uk_100g glycemic-index_100g water-hardness_100g  \\\n",
       "0                     NaN                 NaN                 NaN   \n",
       "1                     NaN                 NaN                 NaN   \n",
       "2                     NaN                 NaN                 NaN   \n",
       "3                     NaN                 NaN                 NaN   \n",
       "4                     NaN                 NaN                 NaN   \n",
       "\n",
       "  choline_100g phylloquinone_100g beta-glucan_100g inositol_100g  \\\n",
       "0          NaN                NaN              NaN           NaN   \n",
       "1          NaN                NaN              NaN           NaN   \n",
       "2          NaN                NaN              NaN           NaN   \n",
       "3          NaN                NaN              NaN           NaN   \n",
       "4          NaN                NaN              NaN           NaN   \n",
       "\n",
       "  carnitine_100g  \n",
       "0            NaN  \n",
       "1            NaN  \n",
       "2            NaN  \n",
       "3            NaN  \n",
       "4            NaN  \n",
       "\n",
       "[5 rows x 186 columns]"
      ]
     },
     "execution_count": 2,
     "metadata": {},
     "output_type": "execute_result"
    }
   ],
   "source": [
    "#chargement du fichier/ Importer uniquement les 10000 premieres lignes\n",
    "data=pd.read_csv(\"en.openfoodfacts.org.products2.csv\", sep= '\\t',encoding=\"utf-8\", nrows=10000)\n",
    "data.head()"
   ]
  },
  {
   "cell_type": "code",
   "execution_count": 3,
   "metadata": {},
   "outputs": [
    {
     "name": "stdout",
     "output_type": "stream",
     "text": [
      "0 code\n",
      "1 url\n",
      "2 creator\n",
      "3 created_t\n",
      "4 created_datetime\n",
      "5 last_modified_t\n",
      "6 last_modified_datetime\n",
      "7 product_name\n",
      "8 abbreviated_product_name\n",
      "9 generic_name\n",
      "10 quantity\n",
      "11 packaging\n",
      "12 packaging_tags\n",
      "13 packaging_text\n",
      "14 brands\n",
      "15 brands_tags\n",
      "16 categories\n",
      "17 categories_tags\n",
      "18 categories_en\n",
      "19 origins\n",
      "20 origins_tags\n",
      "21 origins_en\n",
      "22 manufacturing_places\n",
      "23 manufacturing_places_tags\n",
      "24 labels\n",
      "25 labels_tags\n",
      "26 labels_en\n",
      "27 emb_codes\n",
      "28 emb_codes_tags\n",
      "29 first_packaging_code_geo\n",
      "30 cities\n",
      "31 cities_tags\n",
      "32 purchase_places\n",
      "33 stores\n",
      "34 countries\n",
      "35 countries_tags\n",
      "36 countries_en\n",
      "37 ingredients_text\n",
      "38 allergens\n",
      "39 allergens_en\n",
      "40 traces\n",
      "41 traces_tags\n",
      "42 traces_en\n",
      "43 serving_size\n",
      "44 serving_quantity\n",
      "45 no_nutriments\n",
      "46 additives_n\n",
      "47 additives\n",
      "48 additives_tags\n",
      "49 additives_en\n",
      "50 ingredients_from_palm_oil_n\n",
      "51 ingredients_from_palm_oil\n",
      "52 ingredients_from_palm_oil_tags\n",
      "53 ingredients_that_may_be_from_palm_oil_n\n",
      "54 ingredients_that_may_be_from_palm_oil\n",
      "55 ingredients_that_may_be_from_palm_oil_tags\n",
      "56 nutriscore_score\n",
      "57 nutriscore_grade\n",
      "58 nova_group\n",
      "59 pnns_groups_1\n",
      "60 pnns_groups_2\n",
      "61 states\n",
      "62 states_tags\n",
      "63 states_en\n",
      "64 brand_owner\n",
      "65 ecoscore_score_fr\n",
      "66 ecoscore_grade_fr\n",
      "67 main_category\n",
      "68 main_category_en\n",
      "69 image_url\n",
      "70 image_small_url\n",
      "71 image_ingredients_url\n",
      "72 image_ingredients_small_url\n",
      "73 image_nutrition_url\n",
      "74 image_nutrition_small_url\n",
      "75 energy-kj_100g\n",
      "76 energy-kcal_100g\n",
      "77 energy_100g\n",
      "78 energy-from-fat_100g\n",
      "79 fat_100g\n",
      "80 saturated-fat_100g\n",
      "81 -butyric-acid_100g\n",
      "82 -caproic-acid_100g\n",
      "83 -caprylic-acid_100g\n",
      "84 -capric-acid_100g\n",
      "85 -lauric-acid_100g\n",
      "86 -myristic-acid_100g\n",
      "87 -palmitic-acid_100g\n",
      "88 -stearic-acid_100g\n",
      "89 -arachidic-acid_100g\n",
      "90 -behenic-acid_100g\n",
      "91 -lignoceric-acid_100g\n",
      "92 -cerotic-acid_100g\n",
      "93 -montanic-acid_100g\n",
      "94 -melissic-acid_100g\n",
      "95 monounsaturated-fat_100g\n",
      "96 polyunsaturated-fat_100g\n",
      "97 omega-3-fat_100g\n",
      "98 -alpha-linolenic-acid_100g\n",
      "99 -eicosapentaenoic-acid_100g\n",
      "100 -docosahexaenoic-acid_100g\n",
      "101 omega-6-fat_100g\n",
      "102 -linoleic-acid_100g\n",
      "103 -arachidonic-acid_100g\n",
      "104 -gamma-linolenic-acid_100g\n",
      "105 -dihomo-gamma-linolenic-acid_100g\n",
      "106 omega-9-fat_100g\n",
      "107 -oleic-acid_100g\n",
      "108 -elaidic-acid_100g\n",
      "109 -gondoic-acid_100g\n",
      "110 -mead-acid_100g\n",
      "111 -erucic-acid_100g\n",
      "112 -nervonic-acid_100g\n",
      "113 trans-fat_100g\n",
      "114 cholesterol_100g\n",
      "115 carbohydrates_100g\n",
      "116 sugars_100g\n",
      "117 -sucrose_100g\n",
      "118 -glucose_100g\n",
      "119 -fructose_100g\n",
      "120 -lactose_100g\n",
      "121 -maltose_100g\n",
      "122 -maltodextrins_100g\n",
      "123 starch_100g\n",
      "124 polyols_100g\n",
      "125 fiber_100g\n",
      "126 -soluble-fiber_100g\n",
      "127 -insoluble-fiber_100g\n",
      "128 proteins_100g\n",
      "129 casein_100g\n",
      "130 serum-proteins_100g\n",
      "131 nucleotides_100g\n",
      "132 salt_100g\n",
      "133 sodium_100g\n",
      "134 alcohol_100g\n",
      "135 vitamin-a_100g\n",
      "136 beta-carotene_100g\n",
      "137 vitamin-d_100g\n",
      "138 vitamin-e_100g\n",
      "139 vitamin-k_100g\n",
      "140 vitamin-c_100g\n",
      "141 vitamin-b1_100g\n",
      "142 vitamin-b2_100g\n",
      "143 vitamin-pp_100g\n",
      "144 vitamin-b6_100g\n",
      "145 vitamin-b9_100g\n",
      "146 folates_100g\n",
      "147 vitamin-b12_100g\n",
      "148 biotin_100g\n",
      "149 pantothenic-acid_100g\n",
      "150 silica_100g\n",
      "151 bicarbonate_100g\n",
      "152 potassium_100g\n",
      "153 chloride_100g\n",
      "154 calcium_100g\n",
      "155 phosphorus_100g\n",
      "156 iron_100g\n",
      "157 magnesium_100g\n",
      "158 zinc_100g\n",
      "159 copper_100g\n",
      "160 manganese_100g\n",
      "161 fluoride_100g\n",
      "162 selenium_100g\n",
      "163 chromium_100g\n",
      "164 molybdenum_100g\n",
      "165 iodine_100g\n",
      "166 caffeine_100g\n",
      "167 taurine_100g\n",
      "168 ph_100g\n",
      "169 fruits-vegetables-nuts_100g\n",
      "170 fruits-vegetables-nuts-dried_100g\n",
      "171 fruits-vegetables-nuts-estimate_100g\n",
      "172 collagen-meat-protein-ratio_100g\n",
      "173 cocoa_100g\n",
      "174 chlorophyl_100g\n",
      "175 carbon-footprint_100g\n",
      "176 carbon-footprint-from-meat-or-fish_100g\n",
      "177 nutrition-score-fr_100g\n",
      "178 nutrition-score-uk_100g\n",
      "179 glycemic-index_100g\n",
      "180 water-hardness_100g\n",
      "181 choline_100g\n",
      "182 phylloquinone_100g\n",
      "183 beta-glucan_100g\n",
      "184 inositol_100g\n",
      "185 carnitine_100g\n"
     ]
    }
   ],
   "source": [
    "#Enumerer les colonnes\n",
    "for idx,column in enumerate(data.columns):\n",
    "    print(idx,column)"
   ]
  },
  {
   "cell_type": "code",
   "execution_count": 4,
   "metadata": {},
   "outputs": [
    {
     "data": {
      "text/plain": [
       "111"
      ]
     },
     "execution_count": 4,
     "metadata": {},
     "output_type": "execute_result"
    }
   ],
   "source": [
    "#Créer une listes des colonnes contenant le mot \"100g\"\n",
    "cols = [i for i in data.columns if \"100g\" in i]\n",
    "\n",
    "len(cols)"
   ]
  },
  {
   "cell_type": "code",
   "execution_count": 5,
   "metadata": {},
   "outputs": [
    {
     "data": {
      "text/plain": [
       "117"
      ]
     },
     "execution_count": 5,
     "metadata": {},
     "output_type": "execute_result"
    }
   ],
   "source": [
    "cols.extend([\"code\",\"nutriscore_score\",\"product_name\",\"categories\",\"nutriscore_grade\",\"nova_group\"])\n",
    "len(cols)"
   ]
  },
  {
   "cell_type": "code",
   "execution_count": 6,
   "metadata": {},
   "outputs": [
    {
     "name": "stderr",
     "output_type": "stream",
     "text": [
      "C:\\Users\\Administrator\\anaconda3\\lib\\site-packages\\IPython\\core\\interactiveshell.py:3146: DtypeWarning: Columns (0) have mixed types.Specify dtype option on import or set low_memory=False.\n",
      "  has_raised = await self.run_ast_nodes(code_ast.body, cell_name,\n"
     ]
    },
    {
     "data": {
      "text/html": [
       "<div>\n",
       "<style scoped>\n",
       "    .dataframe tbody tr th:only-of-type {\n",
       "        vertical-align: middle;\n",
       "    }\n",
       "\n",
       "    .dataframe tbody tr th {\n",
       "        vertical-align: top;\n",
       "    }\n",
       "\n",
       "    .dataframe thead th {\n",
       "        text-align: right;\n",
       "    }\n",
       "</style>\n",
       "<table border=\"1\" class=\"dataframe\">\n",
       "  <thead>\n",
       "    <tr style=\"text-align: right;\">\n",
       "      <th></th>\n",
       "      <th>code</th>\n",
       "      <th>product_name</th>\n",
       "      <th>categories</th>\n",
       "      <th>nutriscore_score</th>\n",
       "      <th>nutriscore_grade</th>\n",
       "      <th>nova_group</th>\n",
       "      <th>energy-kj_100g</th>\n",
       "      <th>energy-kcal_100g</th>\n",
       "      <th>energy_100g</th>\n",
       "      <th>energy-from-fat_100g</th>\n",
       "      <th>...</th>\n",
       "      <th>carbon-footprint-from-meat-or-fish_100g</th>\n",
       "      <th>nutrition-score-fr_100g</th>\n",
       "      <th>nutrition-score-uk_100g</th>\n",
       "      <th>glycemic-index_100g</th>\n",
       "      <th>water-hardness_100g</th>\n",
       "      <th>choline_100g</th>\n",
       "      <th>phylloquinone_100g</th>\n",
       "      <th>beta-glucan_100g</th>\n",
       "      <th>inositol_100g</th>\n",
       "      <th>carnitine_100g</th>\n",
       "    </tr>\n",
       "  </thead>\n",
       "  <tbody>\n",
       "    <tr>\n",
       "      <th>0</th>\n",
       "      <td>0000000000017</td>\n",
       "      <td>Vitória crackers</td>\n",
       "      <td>NaN</td>\n",
       "      <td>NaN</td>\n",
       "      <td>NaN</td>\n",
       "      <td>NaN</td>\n",
       "      <td>NaN</td>\n",
       "      <td>375.0</td>\n",
       "      <td>1569.0</td>\n",
       "      <td>NaN</td>\n",
       "      <td>...</td>\n",
       "      <td>NaN</td>\n",
       "      <td>NaN</td>\n",
       "      <td>NaN</td>\n",
       "      <td>NaN</td>\n",
       "      <td>NaN</td>\n",
       "      <td>NaN</td>\n",
       "      <td>NaN</td>\n",
       "      <td>NaN</td>\n",
       "      <td>NaN</td>\n",
       "      <td>NaN</td>\n",
       "    </tr>\n",
       "    <tr>\n",
       "      <th>1</th>\n",
       "      <td>0000000000031</td>\n",
       "      <td>Cacao</td>\n",
       "      <td>NaN</td>\n",
       "      <td>NaN</td>\n",
       "      <td>NaN</td>\n",
       "      <td>NaN</td>\n",
       "      <td>NaN</td>\n",
       "      <td>NaN</td>\n",
       "      <td>NaN</td>\n",
       "      <td>NaN</td>\n",
       "      <td>...</td>\n",
       "      <td>NaN</td>\n",
       "      <td>NaN</td>\n",
       "      <td>NaN</td>\n",
       "      <td>NaN</td>\n",
       "      <td>NaN</td>\n",
       "      <td>NaN</td>\n",
       "      <td>NaN</td>\n",
       "      <td>NaN</td>\n",
       "      <td>NaN</td>\n",
       "      <td>NaN</td>\n",
       "    </tr>\n",
       "    <tr>\n",
       "      <th>2</th>\n",
       "      <td>000000000003327986</td>\n",
       "      <td>Filetes de pollo empanado</td>\n",
       "      <td>NaN</td>\n",
       "      <td>NaN</td>\n",
       "      <td>NaN</td>\n",
       "      <td>NaN</td>\n",
       "      <td>NaN</td>\n",
       "      <td>NaN</td>\n",
       "      <td>NaN</td>\n",
       "      <td>NaN</td>\n",
       "      <td>...</td>\n",
       "      <td>NaN</td>\n",
       "      <td>NaN</td>\n",
       "      <td>NaN</td>\n",
       "      <td>NaN</td>\n",
       "      <td>NaN</td>\n",
       "      <td>NaN</td>\n",
       "      <td>NaN</td>\n",
       "      <td>NaN</td>\n",
       "      <td>NaN</td>\n",
       "      <td>NaN</td>\n",
       "    </tr>\n",
       "    <tr>\n",
       "      <th>3</th>\n",
       "      <td>000000000004622327</td>\n",
       "      <td>Hamburguesas de ternera 100%</td>\n",
       "      <td>NaN</td>\n",
       "      <td>NaN</td>\n",
       "      <td>NaN</td>\n",
       "      <td>NaN</td>\n",
       "      <td>NaN</td>\n",
       "      <td>874.9</td>\n",
       "      <td>3661.0</td>\n",
       "      <td>NaN</td>\n",
       "      <td>...</td>\n",
       "      <td>NaN</td>\n",
       "      <td>NaN</td>\n",
       "      <td>NaN</td>\n",
       "      <td>NaN</td>\n",
       "      <td>NaN</td>\n",
       "      <td>NaN</td>\n",
       "      <td>NaN</td>\n",
       "      <td>NaN</td>\n",
       "      <td>NaN</td>\n",
       "      <td>NaN</td>\n",
       "    </tr>\n",
       "    <tr>\n",
       "      <th>4</th>\n",
       "      <td>0000000000100</td>\n",
       "      <td>moutarde au moût de raisin</td>\n",
       "      <td>Epicerie, Condiments, Sauces, Moutardes</td>\n",
       "      <td>18.0</td>\n",
       "      <td>d</td>\n",
       "      <td>NaN</td>\n",
       "      <td>936.0</td>\n",
       "      <td>NaN</td>\n",
       "      <td>936.0</td>\n",
       "      <td>NaN</td>\n",
       "      <td>...</td>\n",
       "      <td>NaN</td>\n",
       "      <td>18.0</td>\n",
       "      <td>NaN</td>\n",
       "      <td>NaN</td>\n",
       "      <td>NaN</td>\n",
       "      <td>NaN</td>\n",
       "      <td>NaN</td>\n",
       "      <td>NaN</td>\n",
       "      <td>NaN</td>\n",
       "      <td>NaN</td>\n",
       "    </tr>\n",
       "    <tr>\n",
       "      <th>...</th>\n",
       "      <td>...</td>\n",
       "      <td>...</td>\n",
       "      <td>...</td>\n",
       "      <td>...</td>\n",
       "      <td>...</td>\n",
       "      <td>...</td>\n",
       "      <td>...</td>\n",
       "      <td>...</td>\n",
       "      <td>...</td>\n",
       "      <td>...</td>\n",
       "      <td>...</td>\n",
       "      <td>...</td>\n",
       "      <td>...</td>\n",
       "      <td>...</td>\n",
       "      <td>...</td>\n",
       "      <td>...</td>\n",
       "      <td>...</td>\n",
       "      <td>...</td>\n",
       "      <td>...</td>\n",
       "      <td>...</td>\n",
       "      <td>...</td>\n",
       "    </tr>\n",
       "    <tr>\n",
       "      <th>1821076</th>\n",
       "      <td>9999999910128</td>\n",
       "      <td>Sandwich club Rillette poisson combava</td>\n",
       "      <td>NaN</td>\n",
       "      <td>NaN</td>\n",
       "      <td>NaN</td>\n",
       "      <td>NaN</td>\n",
       "      <td>NaN</td>\n",
       "      <td>NaN</td>\n",
       "      <td>NaN</td>\n",
       "      <td>NaN</td>\n",
       "      <td>...</td>\n",
       "      <td>NaN</td>\n",
       "      <td>NaN</td>\n",
       "      <td>NaN</td>\n",
       "      <td>NaN</td>\n",
       "      <td>NaN</td>\n",
       "      <td>NaN</td>\n",
       "      <td>NaN</td>\n",
       "      <td>NaN</td>\n",
       "      <td>NaN</td>\n",
       "      <td>NaN</td>\n",
       "    </tr>\n",
       "    <tr>\n",
       "      <th>1821077</th>\n",
       "      <td>999999999</td>\n",
       "      <td>Thé noir BIO Darjeeling</td>\n",
       "      <td>NaN</td>\n",
       "      <td>NaN</td>\n",
       "      <td>NaN</td>\n",
       "      <td>NaN</td>\n",
       "      <td>NaN</td>\n",
       "      <td>NaN</td>\n",
       "      <td>NaN</td>\n",
       "      <td>NaN</td>\n",
       "      <td>...</td>\n",
       "      <td>NaN</td>\n",
       "      <td>NaN</td>\n",
       "      <td>NaN</td>\n",
       "      <td>NaN</td>\n",
       "      <td>NaN</td>\n",
       "      <td>NaN</td>\n",
       "      <td>NaN</td>\n",
       "      <td>NaN</td>\n",
       "      <td>NaN</td>\n",
       "      <td>NaN</td>\n",
       "    </tr>\n",
       "    <tr>\n",
       "      <th>1821078</th>\n",
       "      <td>9999999990397</td>\n",
       "      <td>Fati</td>\n",
       "      <td>NaN</td>\n",
       "      <td>NaN</td>\n",
       "      <td>NaN</td>\n",
       "      <td>NaN</td>\n",
       "      <td>NaN</td>\n",
       "      <td>24.0</td>\n",
       "      <td>100.0</td>\n",
       "      <td>NaN</td>\n",
       "      <td>...</td>\n",
       "      <td>NaN</td>\n",
       "      <td>NaN</td>\n",
       "      <td>NaN</td>\n",
       "      <td>NaN</td>\n",
       "      <td>NaN</td>\n",
       "      <td>NaN</td>\n",
       "      <td>NaN</td>\n",
       "      <td>NaN</td>\n",
       "      <td>NaN</td>\n",
       "      <td>NaN</td>\n",
       "    </tr>\n",
       "    <tr>\n",
       "      <th>1821079</th>\n",
       "      <td>9999999999994</td>\n",
       "      <td>Light &amp; Free SKYR A BOIRE</td>\n",
       "      <td>NaN</td>\n",
       "      <td>NaN</td>\n",
       "      <td>NaN</td>\n",
       "      <td>NaN</td>\n",
       "      <td>NaN</td>\n",
       "      <td>0.0</td>\n",
       "      <td>0.0</td>\n",
       "      <td>NaN</td>\n",
       "      <td>...</td>\n",
       "      <td>NaN</td>\n",
       "      <td>NaN</td>\n",
       "      <td>NaN</td>\n",
       "      <td>NaN</td>\n",
       "      <td>NaN</td>\n",
       "      <td>NaN</td>\n",
       "      <td>NaN</td>\n",
       "      <td>NaN</td>\n",
       "      <td>NaN</td>\n",
       "      <td>NaN</td>\n",
       "    </tr>\n",
       "    <tr>\n",
       "      <th>1821080</th>\n",
       "      <td>999999999999999</td>\n",
       "      <td>Signal Toothpaste</td>\n",
       "      <td>Non food products, Open Beauty Facts, Toothpaste</td>\n",
       "      <td>NaN</td>\n",
       "      <td>NaN</td>\n",
       "      <td>NaN</td>\n",
       "      <td>NaN</td>\n",
       "      <td>NaN</td>\n",
       "      <td>NaN</td>\n",
       "      <td>NaN</td>\n",
       "      <td>...</td>\n",
       "      <td>NaN</td>\n",
       "      <td>NaN</td>\n",
       "      <td>NaN</td>\n",
       "      <td>NaN</td>\n",
       "      <td>NaN</td>\n",
       "      <td>NaN</td>\n",
       "      <td>NaN</td>\n",
       "      <td>NaN</td>\n",
       "      <td>NaN</td>\n",
       "      <td>NaN</td>\n",
       "    </tr>\n",
       "  </tbody>\n",
       "</table>\n",
       "<p>1821081 rows × 117 columns</p>\n",
       "</div>"
      ],
      "text/plain": [
       "                       code                            product_name  \\\n",
       "0             0000000000017                        Vitória crackers   \n",
       "1             0000000000031                                   Cacao   \n",
       "2        000000000003327986               Filetes de pollo empanado   \n",
       "3        000000000004622327            Hamburguesas de ternera 100%   \n",
       "4             0000000000100             moutarde au moût de raisin    \n",
       "...                     ...                                     ...   \n",
       "1821076       9999999910128  Sandwich club Rillette poisson combava   \n",
       "1821077           999999999                 Thé noir BIO Darjeeling   \n",
       "1821078       9999999990397                                    Fati   \n",
       "1821079       9999999999994               Light & Free SKYR A BOIRE   \n",
       "1821080     999999999999999                       Signal Toothpaste   \n",
       "\n",
       "                                               categories  nutriscore_score  \\\n",
       "0                                                     NaN               NaN   \n",
       "1                                                     NaN               NaN   \n",
       "2                                                     NaN               NaN   \n",
       "3                                                     NaN               NaN   \n",
       "4                 Epicerie, Condiments, Sauces, Moutardes              18.0   \n",
       "...                                                   ...               ...   \n",
       "1821076                                               NaN               NaN   \n",
       "1821077                                               NaN               NaN   \n",
       "1821078                                               NaN               NaN   \n",
       "1821079                                               NaN               NaN   \n",
       "1821080  Non food products, Open Beauty Facts, Toothpaste               NaN   \n",
       "\n",
       "        nutriscore_grade  nova_group  energy-kj_100g  energy-kcal_100g  \\\n",
       "0                    NaN         NaN             NaN             375.0   \n",
       "1                    NaN         NaN             NaN               NaN   \n",
       "2                    NaN         NaN             NaN               NaN   \n",
       "3                    NaN         NaN             NaN             874.9   \n",
       "4                      d         NaN           936.0               NaN   \n",
       "...                  ...         ...             ...               ...   \n",
       "1821076              NaN         NaN             NaN               NaN   \n",
       "1821077              NaN         NaN             NaN               NaN   \n",
       "1821078              NaN         NaN             NaN              24.0   \n",
       "1821079              NaN         NaN             NaN               0.0   \n",
       "1821080              NaN         NaN             NaN               NaN   \n",
       "\n",
       "         energy_100g  energy-from-fat_100g  ...  \\\n",
       "0             1569.0                   NaN  ...   \n",
       "1                NaN                   NaN  ...   \n",
       "2                NaN                   NaN  ...   \n",
       "3             3661.0                   NaN  ...   \n",
       "4              936.0                   NaN  ...   \n",
       "...              ...                   ...  ...   \n",
       "1821076          NaN                   NaN  ...   \n",
       "1821077          NaN                   NaN  ...   \n",
       "1821078        100.0                   NaN  ...   \n",
       "1821079          0.0                   NaN  ...   \n",
       "1821080          NaN                   NaN  ...   \n",
       "\n",
       "         carbon-footprint-from-meat-or-fish_100g  nutrition-score-fr_100g  \\\n",
       "0                                            NaN                      NaN   \n",
       "1                                            NaN                      NaN   \n",
       "2                                            NaN                      NaN   \n",
       "3                                            NaN                      NaN   \n",
       "4                                            NaN                     18.0   \n",
       "...                                          ...                      ...   \n",
       "1821076                                      NaN                      NaN   \n",
       "1821077                                      NaN                      NaN   \n",
       "1821078                                      NaN                      NaN   \n",
       "1821079                                      NaN                      NaN   \n",
       "1821080                                      NaN                      NaN   \n",
       "\n",
       "         nutrition-score-uk_100g  glycemic-index_100g  water-hardness_100g  \\\n",
       "0                            NaN                  NaN                  NaN   \n",
       "1                            NaN                  NaN                  NaN   \n",
       "2                            NaN                  NaN                  NaN   \n",
       "3                            NaN                  NaN                  NaN   \n",
       "4                            NaN                  NaN                  NaN   \n",
       "...                          ...                  ...                  ...   \n",
       "1821076                      NaN                  NaN                  NaN   \n",
       "1821077                      NaN                  NaN                  NaN   \n",
       "1821078                      NaN                  NaN                  NaN   \n",
       "1821079                      NaN                  NaN                  NaN   \n",
       "1821080                      NaN                  NaN                  NaN   \n",
       "\n",
       "         choline_100g  phylloquinone_100g  beta-glucan_100g  inositol_100g  \\\n",
       "0                 NaN                 NaN               NaN            NaN   \n",
       "1                 NaN                 NaN               NaN            NaN   \n",
       "2                 NaN                 NaN               NaN            NaN   \n",
       "3                 NaN                 NaN               NaN            NaN   \n",
       "4                 NaN                 NaN               NaN            NaN   \n",
       "...               ...                 ...               ...            ...   \n",
       "1821076           NaN                 NaN               NaN            NaN   \n",
       "1821077           NaN                 NaN               NaN            NaN   \n",
       "1821078           NaN                 NaN               NaN            NaN   \n",
       "1821079           NaN                 NaN               NaN            NaN   \n",
       "1821080           NaN                 NaN               NaN            NaN   \n",
       "\n",
       "         carnitine_100g  \n",
       "0                   NaN  \n",
       "1                   NaN  \n",
       "2                   NaN  \n",
       "3                   NaN  \n",
       "4                   NaN  \n",
       "...                 ...  \n",
       "1821076             NaN  \n",
       "1821077             NaN  \n",
       "1821078             NaN  \n",
       "1821079             NaN  \n",
       "1821080             NaN  \n",
       "\n",
       "[1821081 rows x 117 columns]"
      ]
     },
     "execution_count": 6,
     "metadata": {},
     "output_type": "execute_result"
    }
   ],
   "source": [
    "#Chargement du fichier avec toutes les lignes et uniquement les colonnes qui nous interessent\n",
    "data2=pd.read_csv(\"en.openfoodfacts.org.products2.csv\", sep= '\\t',encoding=\"utf-8\",usecols = cols)\n",
    "data2"
   ]
  },
  {
   "cell_type": "code",
   "execution_count": 7,
   "metadata": {},
   "outputs": [
    {
     "data": {
      "text/plain": [
       "(1821081, 117)"
      ]
     },
     "execution_count": 7,
     "metadata": {},
     "output_type": "execute_result"
    }
   ],
   "source": [
    "data2.shape"
   ]
  },
  {
   "cell_type": "code",
   "execution_count": 8,
   "metadata": {},
   "outputs": [],
   "source": [
    "#supprimer les colonnes avec +80% de valeurs manquantes \n",
    "for c in data2.columns:\n",
    "    if  (data2[c].isna().sum() / data2.shape[0]) > 0.8:\n",
    "        data2.drop(c,1,inplace=True)\n",
    " "
   ]
  },
  {
   "cell_type": "code",
   "execution_count": 9,
   "metadata": {},
   "outputs": [
    {
     "data": {
      "text/plain": [
       "(1821081, 17)"
      ]
     },
     "execution_count": 9,
     "metadata": {},
     "output_type": "execute_result"
    }
   ],
   "source": [
    "data2.shape"
   ]
  },
  {
   "cell_type": "code",
   "execution_count": 10,
   "metadata": {},
   "outputs": [
    {
     "data": {
      "text/plain": [
       "code                       0.000000\n",
       "product_name               0.043048\n",
       "categories                 0.523704\n",
       "nutriscore_score           0.630171\n",
       "nutriscore_grade           0.630171\n",
       "nova_group                 0.665555\n",
       "energy-kcal_100g           0.235248\n",
       "energy_100g                0.206183\n",
       "fat_100g                   0.210640\n",
       "saturated-fat_100g         0.234509\n",
       "carbohydrates_100g         0.210886\n",
       "sugars_100g                0.220198\n",
       "fiber_100g                 0.739611\n",
       "proteins_100g              0.210039\n",
       "salt_100g                  0.242307\n",
       "sodium_100g                0.242309\n",
       "nutrition-score-fr_100g    0.630168\n",
       "dtype: float64"
      ]
     },
     "execution_count": 10,
     "metadata": {},
     "output_type": "execute_result"
    }
   ],
   "source": [
    "data2.isna().sum()/len(data2)"
   ]
  },
  {
   "cell_type": "code",
   "execution_count": 11,
   "metadata": {},
   "outputs": [
    {
     "data": {
      "text/plain": [
       "(673489, 17)"
      ]
     },
     "execution_count": 11,
     "metadata": {},
     "output_type": "execute_result"
    }
   ],
   "source": [
    "# Données dont les lignes ont un nutriscore_grade non NaN\n",
    "dataNutri = data2[data2['nutriscore_grade'].notna()]\n",
    "dataNutri.shape"
   ]
  },
  {
   "cell_type": "code",
   "execution_count": 12,
   "metadata": {},
   "outputs": [
    {
     "data": {
      "text/plain": [
       "(673489, 3)"
      ]
     },
     "execution_count": 12,
     "metadata": {},
     "output_type": "execute_result"
    }
   ],
   "source": [
    "dataNutri2= dataNutri[['nutriscore_grade','nutriscore_score','nova_group']]\n",
    "dataNutri2.shape"
   ]
  },
  {
   "cell_type": "code",
   "execution_count": 13,
   "metadata": {},
   "outputs": [],
   "source": [
    "#Export de dataNutri2 (Données dont les lignes ont un nutriscore_grade non NaN)\n",
    "dataNutri2.to_csv (r'C:\\Users\\Administrator\\export_dataNutri2-P3.csv', index = False, header=True)"
   ]
  },
  {
   "cell_type": "code",
   "execution_count": 14,
   "metadata": {},
   "outputs": [
    {
     "data": {
      "text/plain": [
       "(609051, 17)"
      ]
     },
     "execution_count": 14,
     "metadata": {},
     "output_type": "execute_result"
    }
   ],
   "source": [
    "# Données dont les lignens ont un nova_group non NaN\n",
    "dataNova = data2[data2['nova_group'].notna()]\n",
    "dataNova.shape"
   ]
  },
  {
   "cell_type": "code",
   "execution_count": 15,
   "metadata": {},
   "outputs": [
    {
     "data": {
      "text/plain": [
       "(609051, 3)"
      ]
     },
     "execution_count": 15,
     "metadata": {},
     "output_type": "execute_result"
    }
   ],
   "source": [
    "dataNova2= dataNova[['nutriscore_grade','nutriscore_score','nova_group']]\n",
    "dataNova2.shape"
   ]
  },
  {
   "cell_type": "code",
   "execution_count": 16,
   "metadata": {},
   "outputs": [],
   "source": [
    "#Export de dataNova2 (Données dont les lignes ont un Nova_group non NaN)\n",
    "dataNova2.to_csv (r'C:\\Users\\Administrator\\export_dataNova2-P3.csv', index = False, header=True)"
   ]
  },
  {
   "cell_type": "code",
   "execution_count": 17,
   "metadata": {},
   "outputs": [
    {
     "data": {
      "text/plain": [
       "(452883, 17)"
      ]
     },
     "execution_count": 17,
     "metadata": {},
     "output_type": "execute_result"
    }
   ],
   "source": [
    "#données dont les lignes ont un nutri_grade et un nova_group non NaN\n",
    "dataNutriNova = dataNutri[dataNutri['nova_group'].notna()]\n",
    "dataNutriNova.shape"
   ]
  },
  {
   "cell_type": "code",
   "execution_count": 18,
   "metadata": {},
   "outputs": [],
   "source": [
    "#copie de dataNutriNova\n",
    "data3=dataNutriNova.copy()"
   ]
  },
  {
   "cell_type": "code",
   "execution_count": 19,
   "metadata": {},
   "outputs": [],
   "source": [
    "data3=data3.drop(['nutrition-score-fr_100g','energy_100g','sodium_100g'],1)\n"
   ]
  },
  {
   "cell_type": "code",
   "execution_count": 20,
   "metadata": {},
   "outputs": [
    {
     "data": {
      "text/plain": [
       "(452287, 14)"
      ]
     },
     "execution_count": 20,
     "metadata": {},
     "output_type": "execute_result"
    }
   ],
   "source": [
    "#supprimer les lignes avec des valeurs de colonnes > 100 ou < 0 ou energy-kcal_100g > 900\n",
    "superieurA100 = data3[ (data3['saturated-fat_100g'] >100) | (data3['sugars_100g'] >100)| (data3['sugars_100g'] < 0) | (data3['salt_100g'] >100) | (data3['fiber_100g'] >100) | (data3['fiber_100g'] <0)| (data3['energy-kcal_100g'] >900) ].index\n",
    "data3.drop(superieurA100 , inplace=True)\n",
    "data3.shape"
   ]
  },
  {
   "cell_type": "code",
   "execution_count": 21,
   "metadata": {},
   "outputs": [
    {
     "data": {
      "text/plain": [
       "(450505, 14)"
      ]
     },
     "execution_count": 21,
     "metadata": {},
     "output_type": "execute_result"
    }
   ],
   "source": [
    "#supprimer les lignes avec protéines + glucides + gras > 100\n",
    "val100 = data3[ ((data3['fat_100g'] +data3['carbohydrates_100g'] + data3['proteins_100g'] )>100) ].index\n",
    "data3.drop(val100 , inplace=True)\n",
    "data3.shape"
   ]
  },
  {
   "cell_type": "code",
   "execution_count": 22,
   "metadata": {},
   "outputs": [
    {
     "data": {
      "text/plain": [
       "(450420, 14)"
      ]
     },
     "execution_count": 22,
     "metadata": {},
     "output_type": "execute_result"
    }
   ],
   "source": [
    "#supprimer les lignes avec sucres + fibre + sel > 100\n",
    "val2 = data3[ ((data3['sugars_100g'] +data3['salt_100g'] + data3['fiber_100g'] )>100) ].index\n",
    "data3.drop(val2 , inplace=True)\n",
    "data3.shape"
   ]
  },
  {
   "cell_type": "code",
   "execution_count": 23,
   "metadata": {},
   "outputs": [
    {
     "data": {
      "text/plain": [
       "(450128, 14)"
      ]
     },
     "execution_count": 23,
     "metadata": {},
     "output_type": "execute_result"
    }
   ],
   "source": [
    "#supprimer les lignes avec  sucre > Glucides\n",
    "sucreSup = data3[ ((data3['sugars_100g'] >data3['carbohydrates_100g'] )) ].index\n",
    "data3.drop(sucreSup , inplace=True)\n",
    "data3.shape"
   ]
  },
  {
   "cell_type": "code",
   "execution_count": 24,
   "metadata": {},
   "outputs": [
    {
     "data": {
      "text/plain": [
       "(449606, 14)"
      ]
     },
     "execution_count": 24,
     "metadata": {},
     "output_type": "execute_result"
    }
   ],
   "source": [
    "#supprimer les lignes avec  saturated-fat_100g > fat_100g\n",
    "fatSup = data3[ ((data3['saturated-fat_100g'] >data3['fat_100g'] )) ].index\n",
    "data3.drop(fatSup , inplace=True)\n",
    "data3.shape"
   ]
  },
  {
   "cell_type": "code",
   "execution_count": 25,
   "metadata": {},
   "outputs": [
    {
     "data": {
      "text/plain": [
       "14"
      ]
     },
     "execution_count": 25,
     "metadata": {},
     "output_type": "execute_result"
    }
   ],
   "source": [
    "#Nombre de doublons dans la colonne \"code\"\n",
    "data3.duplicated(\"code\").sum()"
   ]
  },
  {
   "cell_type": "code",
   "execution_count": 26,
   "metadata": {},
   "outputs": [
    {
     "data": {
      "text/plain": [
       "(449592, 14)"
      ]
     },
     "execution_count": 26,
     "metadata": {},
     "output_type": "execute_result"
    }
   ],
   "source": [
    "#Spprimer les doublons\n",
    "data3=data3.drop_duplicates(\"code\") \n",
    "data3.shape"
   ]
  },
  {
   "cell_type": "code",
   "execution_count": 27,
   "metadata": {},
   "outputs": [
    {
     "data": {
      "text/plain": [
       "0"
      ]
     },
     "execution_count": 27,
     "metadata": {},
     "output_type": "execute_result"
    }
   ],
   "source": [
    "#Verivfier qu'il ne reste plus de doublons dans nos données\n",
    "data3.duplicated().sum()"
   ]
  },
  {
   "cell_type": "code",
   "execution_count": 28,
   "metadata": {},
   "outputs": [
    {
     "data": {
      "text/plain": [
       "code                  0.000000\n",
       "product_name          0.001962\n",
       "categories            0.000004\n",
       "nutriscore_score      0.000000\n",
       "nutriscore_grade      0.000000\n",
       "nova_group            0.000000\n",
       "energy-kcal_100g      0.080469\n",
       "fat_100g              0.003345\n",
       "saturated-fat_100g    0.003374\n",
       "carbohydrates_100g    0.003697\n",
       "sugars_100g           0.003361\n",
       "fiber_100g            0.250189\n",
       "proteins_100g         0.003343\n",
       "salt_100g             0.002538\n",
       "dtype: float64"
      ]
     },
     "execution_count": 28,
     "metadata": {},
     "output_type": "execute_result"
    }
   ],
   "source": [
    "#Proportion des NaN dans nos colonnes\n",
    "data3.isna().sum()/len(data3)"
   ]
  },
  {
   "cell_type": "code",
   "execution_count": 29,
   "metadata": {},
   "outputs": [],
   "source": [
    "#Export de la data finale (après nettoyage)\n",
    "data3.to_csv (r'C:\\Users\\Administrator\\export_data3-P3.csv', index = False, header=True)\n"
   ]
  },
  {
   "cell_type": "code",
   "execution_count": null,
   "metadata": {},
   "outputs": [],
   "source": []
  }
 ],
 "metadata": {
  "kernelspec": {
   "display_name": "Python 3",
   "language": "python",
   "name": "python3"
  },
  "language_info": {
   "codemirror_mode": {
    "name": "ipython",
    "version": 3
   },
   "file_extension": ".py",
   "mimetype": "text/x-python",
   "name": "python",
   "nbconvert_exporter": "python",
   "pygments_lexer": "ipython3",
   "version": "3.8.5"
  }
 },
 "nbformat": 4,
 "nbformat_minor": 4
}
